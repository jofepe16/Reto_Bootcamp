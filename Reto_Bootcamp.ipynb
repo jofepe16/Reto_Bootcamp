{
 "cells": [
  {
   "cell_type": "markdown",
   "metadata": {
    "id": "T0jsD2YkcTo3"
   },
   "source": [
    "## Introducción al reto"
   ]
  },
  {
   "cell_type": "markdown",
   "metadata": {
    "id": "IfKROPZ-kvWo"
   },
   "source": [
    "Finneo es un neobanco emergente con sede en Nueva York, enfocado en ofrecer servicios financieros digitales a más de 10,000 clientes en 200 ciudades de todo Estados Unidos. La compañía fue fundada hace 4 años y ha crecido rápidamente, gracias a su innovadora plataforma móvil que permite a los usuarios realizar todas sus operaciones bancarias desde sus teléfonos inteligentes, sin la necesidad de sucursales físicas.\n",
    "\n",
    "Desde su lanzamiento, Finneo ha captado la atención de inversores y usuarios por igual, atrayendo a un gran número de nuevos clientes en el último año. De hecho, el 35% de su base actual de usuarios se unió durante el pasado trimestre, gracias a agresivas campañas de marketing y la recomendación de clientes satisfechos.\n",
    "\n",
    "Sin embargo, a pesar de este crecimiento explosivo, **Finneo enfrenta un desafío significativo: la retención de clientes. La compañía ha registrado una tasa de abandono total del 20% al cierre del último trimestre**. Esto ha llevado a la dirección de Finneo a replantear su estrategia para mejorar la retención y la fidelidad de sus clientes.\n",
    "\n",
    "Para abordar este desafío, los equipos de producto, marketing, análisis de datos y atención al cliente han solicitado su ayuda con su conocimiento en datos para:\n",
    "1. Obtenga información a partir de los datos para comprender qué está provocando la elevada tasa de rotación de clientes.\n",
    "\n",
    "2. Desarrolle un modelo de Machine Learning que pueda predecir con precisión cuáles clientes son más propensos a abandonar la compañía.\n"
   ]
  },
  {
   "cell_type": "markdown",
   "metadata": {
    "id": "v1wu9bmCkvWq"
   },
   "source": [
    "<figure>\n",
    "<center>\n",
    "<img src='https://media.licdn.com/dms/image/v2/C4E12AQFpydhHQxkq6w/article-cover_image-shrink_720_1280/article-cover_image-shrink_720_1280/0/1625180951420?e=2147483647&v=beta&t=eQnycUVhn3ixmOoSKNQFVXpF9iAtwq66AmWRHRXjXFU' width=\"764.3312101911200\" height=\"400\" />\n",
    "<figcaption></figcaption></center>\n",
    "</figure>"
   ]
  },
  {
   "cell_type": "markdown",
   "metadata": {
    "id": "-EpvnhY2kvWr"
   },
   "source": [
    "La empresa le ha provisto con una muestra de 10,000 clientes con la que podrá realizar los objetivos planteados. A continuación se presenta una descripción de las 14 columnas que presenta la tabla"
   ]
  },
  {
   "cell_type": "markdown",
   "metadata": {
    "id": "dkuZcYLMkvWr"
   },
   "source": [
    "Nombre             | Tipo               | Descripcion\n",
    "-------------------|--------------------|----------------------------------------------------\n",
    "`Num_fila`           | Numérica           | Número de fila\n",
    "`Id_cliente`         | Categórica         | Identificador único para cada cliente\n",
    "`Apellido`           | Texto              | Apellido del cliente\n",
    "`Puntaje_crediticio` | Númerica discreta  | Puntaje crediticio del cliente\n",
    "`Pais`               | Categórica nominal | País donde el cliente reside\n",
    "`Genero`             | Categórica nominal | Género del cliente\n",
    "`Edad`               | Numérica discreta  | Edad del cliente\n",
    "`Antiguedad`         | Numérica discreta  | Número de años que el cliente ha estado en el banco\n",
    "`Balance`            | Númerica continua  | El balance de la cuenta del cliente\n",
    "`Num_productos`      | Númerica discreta  | Número de productos que usa el cliente\n",
    "`Tarjeta_credito`    | Binaria            | Si el cliente tiene tarjeta de crédito\n",
    "`Miembro_activo`     | Binaria            | Si el clente es miembo activo\n",
    "`Salario_estimado`   | Númerica continua  | Salario anual estimado del cliente\n",
    "`Abandono`           | Binaria            | Si el cliente ha abandonado la empresa"
   ]
  },
  {
   "cell_type": "markdown",
   "metadata": {
    "id": "T0N30UwdaKao"
   },
   "source": [
    "## 1. Preprocesamiento y Visualización"
   ]
  },
  {
   "cell_type": "markdown",
   "metadata": {
    "id": "PonAeqglkvWr"
   },
   "source": [
    "### 1.1 Importación de librerías"
   ]
  },
  {
   "cell_type": "code",
   "execution_count": 27,
   "metadata": {
    "id": "1YiPTgHllPvz"
   },
   "outputs": [],
   "source": [
    "# Librería para lectura, tratamiento, y manipulación de datos\n",
    "import pandas as pd\n",
    "import numpy as np\n",
    "\n",
    "# Librerías para visualización de datos\n",
    "import matplotlib.pyplot as plt\n",
    "from IPython.display import Image, display\n",
    "\n",
    "# Librería para visualización de datos\n",
    "import seaborn as sns\n",
    "\n",
    "#Funciones de modelamiento y métricas\n",
    "# Scikit-Learn\n",
    "import sklearn\n",
    "from sklearn.model_selection import (\n",
    "    train_test_split\n",
    ")\n",
    "from sklearn.impute import SimpleImputer\n",
    "from sklearn.ensemble import (\n",
    "    RandomForestClassifier,\n",
    "    RandomForestRegressor,\n",
    ")\n",
    "from sklearn.linear_model import LinearRegression, LogisticRegression\n",
    "from sklearn.preprocessing import (\n",
    "    StandardScaler,\n",
    "    OneHotEncoder,\n",
    "    OrdinalEncoder,\n",
    "    FunctionTransformer,\n",
    "    MinMaxScaler,\n",
    "    label_binarize\n",
    ")\n",
    "from sklearn.tree import DecisionTreeClassifier, plot_tree\n",
    "from sklearn.metrics import (\n",
    "    classification_report,\n",
    "    confusion_matrix,\n",
    "    ConfusionMatrixDisplay,\n",
    "    PrecisionRecallDisplay,\n",
    "    accuracy_score,\n",
    "    recall_score,\n",
    "    f1_score,\n",
    "    precision_recall_curve\n",
    ")\n",
    "import Funciones_reto_bootcamp  as frb\n"
   ]
  },
  {
   "cell_type": "markdown",
   "metadata": {
    "id": "Ltqkhj3h8N0Y"
   },
   "source": [
    "### Funciones de visualización (Matriz de confusión)"
   ]
  },
  {
   "cell_type": "markdown",
   "metadata": {
    "id": "Ml5_-_h3n2x7"
   },
   "source": [
    "### 1.2 Cargar datos desde el archivo `datos.csv` y análisis general del dataset"
   ]
  },
  {
   "cell_type": "code",
   "execution_count": 2,
   "metadata": {
    "id": "6loj7gFllPuw"
   },
   "outputs": [
    {
     "name": "stdout",
     "output_type": "stream",
     "text": [
      "Filas: 10000\n",
      "Columnas: 14\n"
     ]
    },
    {
     "data": {
      "text/html": [
       "<div>\n",
       "<style scoped>\n",
       "    .dataframe tbody tr th:only-of-type {\n",
       "        vertical-align: middle;\n",
       "    }\n",
       "\n",
       "    .dataframe tbody tr th {\n",
       "        vertical-align: top;\n",
       "    }\n",
       "\n",
       "    .dataframe thead th {\n",
       "        text-align: right;\n",
       "    }\n",
       "</style>\n",
       "<table border=\"1\" class=\"dataframe\">\n",
       "  <thead>\n",
       "    <tr style=\"text-align: right;\">\n",
       "      <th></th>\n",
       "      <th>Num_fila</th>\n",
       "      <th>Id_cliente</th>\n",
       "      <th>Apellido</th>\n",
       "      <th>Puntaje_crediticio</th>\n",
       "      <th>Pais</th>\n",
       "      <th>Genero</th>\n",
       "      <th>Edad</th>\n",
       "      <th>Antiguedad</th>\n",
       "      <th>Balance</th>\n",
       "      <th>Num_productos</th>\n",
       "      <th>Tarjeta_credito</th>\n",
       "      <th>Miembro_activo</th>\n",
       "      <th>Salario_estimado</th>\n",
       "      <th>Abandono</th>\n",
       "    </tr>\n",
       "  </thead>\n",
       "  <tbody>\n",
       "    <tr>\n",
       "      <th>0</th>\n",
       "      <td>1</td>\n",
       "      <td>15634602</td>\n",
       "      <td>Hargrave</td>\n",
       "      <td>619</td>\n",
       "      <td>France</td>\n",
       "      <td>Female</td>\n",
       "      <td>42.0</td>\n",
       "      <td>2</td>\n",
       "      <td>0.00</td>\n",
       "      <td>1</td>\n",
       "      <td>1</td>\n",
       "      <td>1</td>\n",
       "      <td>101348.88</td>\n",
       "      <td>1</td>\n",
       "    </tr>\n",
       "    <tr>\n",
       "      <th>1</th>\n",
       "      <td>2</td>\n",
       "      <td>15647311</td>\n",
       "      <td>Hill</td>\n",
       "      <td>608</td>\n",
       "      <td>Spain</td>\n",
       "      <td>Female</td>\n",
       "      <td>41.0</td>\n",
       "      <td>1</td>\n",
       "      <td>83807.86</td>\n",
       "      <td>1</td>\n",
       "      <td>0</td>\n",
       "      <td>1</td>\n",
       "      <td>112542.58</td>\n",
       "      <td>0</td>\n",
       "    </tr>\n",
       "    <tr>\n",
       "      <th>2</th>\n",
       "      <td>3</td>\n",
       "      <td>15619304</td>\n",
       "      <td>Onio</td>\n",
       "      <td>502</td>\n",
       "      <td>France</td>\n",
       "      <td>Female</td>\n",
       "      <td>42.0</td>\n",
       "      <td>8</td>\n",
       "      <td>159660.80</td>\n",
       "      <td>3</td>\n",
       "      <td>1</td>\n",
       "      <td>0</td>\n",
       "      <td>113931.57</td>\n",
       "      <td>1</td>\n",
       "    </tr>\n",
       "    <tr>\n",
       "      <th>3</th>\n",
       "      <td>4</td>\n",
       "      <td>15701354</td>\n",
       "      <td>Boni</td>\n",
       "      <td>699</td>\n",
       "      <td>France</td>\n",
       "      <td>Female</td>\n",
       "      <td>39.0</td>\n",
       "      <td>1</td>\n",
       "      <td>0.00</td>\n",
       "      <td>2</td>\n",
       "      <td>0</td>\n",
       "      <td>0</td>\n",
       "      <td>93826.63</td>\n",
       "      <td>0</td>\n",
       "    </tr>\n",
       "    <tr>\n",
       "      <th>4</th>\n",
       "      <td>5</td>\n",
       "      <td>15737888</td>\n",
       "      <td>Mitchell</td>\n",
       "      <td>850</td>\n",
       "      <td>Spain</td>\n",
       "      <td>Female</td>\n",
       "      <td>43.0</td>\n",
       "      <td>2</td>\n",
       "      <td>125510.82</td>\n",
       "      <td>1</td>\n",
       "      <td>1</td>\n",
       "      <td>1</td>\n",
       "      <td>79084.10</td>\n",
       "      <td>0</td>\n",
       "    </tr>\n",
       "    <tr>\n",
       "      <th>5</th>\n",
       "      <td>6</td>\n",
       "      <td>15574012</td>\n",
       "      <td>Chu</td>\n",
       "      <td>645</td>\n",
       "      <td>Spain</td>\n",
       "      <td>Male</td>\n",
       "      <td>44.0</td>\n",
       "      <td>8</td>\n",
       "      <td>113755.78</td>\n",
       "      <td>2</td>\n",
       "      <td>1</td>\n",
       "      <td>0</td>\n",
       "      <td>149756.71</td>\n",
       "      <td>1</td>\n",
       "    </tr>\n",
       "    <tr>\n",
       "      <th>6</th>\n",
       "      <td>7</td>\n",
       "      <td>15592531</td>\n",
       "      <td>Bartlett</td>\n",
       "      <td>822</td>\n",
       "      <td>NaN</td>\n",
       "      <td>Male</td>\n",
       "      <td>50.0</td>\n",
       "      <td>7</td>\n",
       "      <td>0.00</td>\n",
       "      <td>2</td>\n",
       "      <td>1</td>\n",
       "      <td>1</td>\n",
       "      <td>10062.80</td>\n",
       "      <td>0</td>\n",
       "    </tr>\n",
       "    <tr>\n",
       "      <th>7</th>\n",
       "      <td>8</td>\n",
       "      <td>15656148</td>\n",
       "      <td>Obinna</td>\n",
       "      <td>376</td>\n",
       "      <td>Germany</td>\n",
       "      <td>Female</td>\n",
       "      <td>29.0</td>\n",
       "      <td>4</td>\n",
       "      <td>115046.74</td>\n",
       "      <td>4</td>\n",
       "      <td>1</td>\n",
       "      <td>0</td>\n",
       "      <td>119346.88</td>\n",
       "      <td>1</td>\n",
       "    </tr>\n",
       "    <tr>\n",
       "      <th>8</th>\n",
       "      <td>9</td>\n",
       "      <td>15792365</td>\n",
       "      <td>He</td>\n",
       "      <td>501</td>\n",
       "      <td>France</td>\n",
       "      <td>Male</td>\n",
       "      <td>44.0</td>\n",
       "      <td>4</td>\n",
       "      <td>142051.07</td>\n",
       "      <td>2</td>\n",
       "      <td>0</td>\n",
       "      <td>1</td>\n",
       "      <td>74940.50</td>\n",
       "      <td>0</td>\n",
       "    </tr>\n",
       "    <tr>\n",
       "      <th>9</th>\n",
       "      <td>10</td>\n",
       "      <td>15592389</td>\n",
       "      <td>H?</td>\n",
       "      <td>684</td>\n",
       "      <td>France</td>\n",
       "      <td>Male</td>\n",
       "      <td>NaN</td>\n",
       "      <td>2</td>\n",
       "      <td>134603.88</td>\n",
       "      <td>1</td>\n",
       "      <td>1</td>\n",
       "      <td>1</td>\n",
       "      <td>71725.73</td>\n",
       "      <td>0</td>\n",
       "    </tr>\n",
       "  </tbody>\n",
       "</table>\n",
       "</div>"
      ],
      "text/plain": [
       "   Num_fila  Id_cliente  Apellido  Puntaje_crediticio     Pais  Genero  Edad  \\\n",
       "0         1    15634602  Hargrave                 619   France  Female  42.0   \n",
       "1         2    15647311      Hill                 608    Spain  Female  41.0   \n",
       "2         3    15619304      Onio                 502   France  Female  42.0   \n",
       "3         4    15701354      Boni                 699   France  Female  39.0   \n",
       "4         5    15737888  Mitchell                 850    Spain  Female  43.0   \n",
       "5         6    15574012       Chu                 645    Spain    Male  44.0   \n",
       "6         7    15592531  Bartlett                 822      NaN    Male  50.0   \n",
       "7         8    15656148    Obinna                 376  Germany  Female  29.0   \n",
       "8         9    15792365        He                 501   France    Male  44.0   \n",
       "9        10    15592389        H?                 684   France    Male   NaN   \n",
       "\n",
       "   Antiguedad    Balance  Num_productos  Tarjeta_credito  Miembro_activo  \\\n",
       "0           2       0.00              1                1               1   \n",
       "1           1   83807.86              1                0               1   \n",
       "2           8  159660.80              3                1               0   \n",
       "3           1       0.00              2                0               0   \n",
       "4           2  125510.82              1                1               1   \n",
       "5           8  113755.78              2                1               0   \n",
       "6           7       0.00              2                1               1   \n",
       "7           4  115046.74              4                1               0   \n",
       "8           4  142051.07              2                0               1   \n",
       "9           2  134603.88              1                1               1   \n",
       "\n",
       "   Salario_estimado  Abandono  \n",
       "0         101348.88         1  \n",
       "1         112542.58         0  \n",
       "2         113931.57         1  \n",
       "3          93826.63         0  \n",
       "4          79084.10         0  \n",
       "5         149756.71         1  \n",
       "6          10062.80         0  \n",
       "7         119346.88         1  \n",
       "8          74940.50         0  \n",
       "9          71725.73         0  "
      ]
     },
     "execution_count": 2,
     "metadata": {},
     "output_type": "execute_result"
    }
   ],
   "source": [
    "# Usa la función read_csv de pandas para leer los datos\n",
    "df = pd.read_csv('datos.csv', sep=';')\n",
    "\n",
    "# Imprime el número de filas de la tabla\n",
    "print(\"Filas:\", df.shape[0])\n",
    "\n",
    "# Imprime el número de columnas de la tabla\n",
    "print(\"Columnas:\", df.shape[1])\n",
    "\n",
    "# Imprime los 10 primeros registros de la tabla\n",
    "df.head(10)"
   ]
  },
  {
   "cell_type": "markdown",
   "metadata": {
    "id": "YKK70lU4rL_h"
   },
   "source": [
    "Use la función `mean` y `median` explicadas en el ejercicio del Titanic para responder:\n",
    "1. ¿Cuál es el balance promedio (mean) que tienen los clientes de la muestra?\n",
    "\n",
    "2. ¿Cuál es la mediana (median) del salario para la muestra de clientes?"
   ]
  },
  {
   "cell_type": "markdown",
   "metadata": {
    "id": "ePAtr7HP61J9"
   },
   "source": [
    "<figure>\n",
    "<center>\n",
    "<img src='https://img.freepik.com/vector-premium/hombre-rico-pobre-concepto-riqueza-pobreza-ilustracion-vector-estilo-dibujos-animados_106788-3034.jpg?w=900' width=\"764.3312101911200\" height=\"400\" />\n",
    "<figcaption></figcaption></center>\n",
    "</figure>"
   ]
  },
  {
   "cell_type": "code",
   "execution_count": 3,
   "metadata": {
    "id": "CYriPEA6r0zj"
   },
   "outputs": [],
   "source": [
    "# Aquí va su código para calcular el balance promedio de los clientes\n"
   ]
  },
  {
   "cell_type": "code",
   "execution_count": 4,
   "metadata": {
    "id": "PXmj8q70a6Fq"
   },
   "outputs": [],
   "source": [
    "# Aquí va su código para calcular la mediana del salario de los clientes\n"
   ]
  },
  {
   "cell_type": "markdown",
   "metadata": {
    "id": "vR6B14aNt_Xh"
   },
   "source": [
    "### 1.3 Selección de variables\n",
    "\n"
   ]
  },
  {
   "cell_type": "markdown",
   "metadata": {
    "id": "LhP0ga-5uIRS"
   },
   "source": [
    "Hay columnas que no generan ningún tipo de valor para análisis ni poder predictivo, como lo pueden ser códigos unicos que identifican al registro (pasajero, cliente, persona). Así mismo campos de texto (no categóricos) deben ser eliminados pues los algoritmos de Machine Learning no entienden palabras sino números.\n",
    "\n",
    "Por favor completa la lista de columnas que deben ser eliminadas del dataset. *Pista: Son tres en total*"
   ]
  },
  {
   "cell_type": "code",
   "execution_count": null,
   "metadata": {
    "id": "J9mh-1p5t_Jb"
   },
   "outputs": [],
   "source": [
    "# Se definen las columnas que se desea eliminar (POR FAVOR COMPLETE)\n",
    "columnas_eliminar = ['Num_fila']\n",
    "\n",
    "# Usa el método drop para borrar las columnas en la lista\n",
    "df.drop(columnas_eliminar, axis=1, inplace=True)"
   ]
  },
  {
   "cell_type": "markdown",
   "metadata": {
    "id": "BPic7sY_zn8w"
   },
   "source": [
    "¿Por qué decidió eliminar esas variables? Explique su selección"
   ]
  },
  {
   "cell_type": "code",
   "execution_count": null,
   "metadata": {
    "id": "ttrI0dY8zZCG"
   },
   "outputs": [],
   "source": [
    "'''\n",
    "Respuesta:\n",
    "\n",
    "\n",
    "'''\n",
    "\n"
   ]
  },
  {
   "cell_type": "code",
   "execution_count": null,
   "metadata": {
    "id": "RwKTavy6v0oB"
   },
   "outputs": [],
   "source": [
    "# Verifique las columnas que componen ahora su dataset\n",
    "df.head()"
   ]
  },
  {
   "cell_type": "markdown",
   "metadata": {
    "id": "q3Zuk0t60-qP"
   },
   "source": [
    "### 1.4 Exploración valores faltantes e imputación"
   ]
  },
  {
   "cell_type": "markdown",
   "metadata": {
    "id": "WGZ_9p5vTVWZ"
   },
   "source": [
    "Los datos faltantes es un problema común en el día a día. A continuación, vamos a explorar cuantos datos faltantes tiene cada columna de nuestro dataset"
   ]
  },
  {
   "cell_type": "code",
   "execution_count": null,
   "metadata": {
    "id": "p_c6-3u7TsxW"
   },
   "outputs": [],
   "source": [
    "# Construye una tabla con las columnas y el número de valores faltantes en estas\n",
    "serie = df.isnull().sum()\n",
    "\n",
    "# Asigna los encabezados de la tabla\n",
    "serie.name = 'Valores faltantes'\n",
    "serie.index.name = 'Columnas'\n",
    "serie"
   ]
  },
  {
   "cell_type": "markdown",
   "metadata": {
    "id": "BSrHYh4qUJNd"
   },
   "source": [
    "Se observa que las variables de país y edad tienen datos faltanes. **Para este ejercicio SOLO debe asignar los valores de media y moda**. Impute con media para edad y moda para país.\n",
    "\n",
    "La manera de calcular estos valores para las columnas fueron presentadas en el ejercicio del Titanic, y adicionalmente disponen de las plantillas"
   ]
  },
  {
   "cell_type": "markdown",
   "metadata": {
    "id": "o09n56VCYq18"
   },
   "source": [
    "\n",
    "\n",
    "```\n",
    "media_nombre_columna = df['nombre_columna'].mean()\n",
    "moda_nombre_columna = df['nombre_columna'].mode()[0]\n",
    "```\n",
    "\n"
   ]
  },
  {
   "cell_type": "code",
   "execution_count": null,
   "metadata": {
    "id": "EViIaGz8Uerr"
   },
   "outputs": [],
   "source": [
    "# Calcular la media de la edad\n",
    "media_edad =\n",
    "\n",
    "# Asigna el valor de la media a todos los valores faltantes de la edad\n",
    "df['Edad'].fillna(media_edad, inplace=True)\n",
    "\n",
    "# Convierte la columna a tipo entero\n",
    "df['Edad'] = df['Edad'].astype('int64')"
   ]
  },
  {
   "cell_type": "code",
   "execution_count": null,
   "metadata": {
    "id": "XNPKddERUydJ"
   },
   "outputs": [],
   "source": [
    "# Calcular la moda del país\n",
    "moda_pais =\n",
    "\n",
    "# Asignar la moda a todos los valores faltantes de la columna país\n",
    "df['Pais'].fillna(moda_pais, inplace=True)"
   ]
  },
  {
   "cell_type": "code",
   "execution_count": null,
   "metadata": {},
   "outputs": [],
   "source": []
  },
  {
   "cell_type": "markdown",
   "metadata": {
    "id": "kb6N5Az83w4h"
   },
   "source": [
    "¿Por qué se argumentaría que usamos la moda para imputar la variable País y no la media?"
   ]
  },
  {
   "cell_type": "code",
   "execution_count": null,
   "metadata": {
    "id": "OyhYbpp038Jg"
   },
   "outputs": [],
   "source": [
    "'''\n",
    "Respuesta:\n",
    "\n",
    "\n",
    "'''"
   ]
  },
  {
   "cell_type": "markdown",
   "metadata": {
    "id": "bUm7RnGkU_pl"
   },
   "source": [
    "### 1.5 Visualizacion y EDA"
   ]
  },
  {
   "cell_type": "markdown",
   "metadata": {
    "id": "syE7SxCtVshD"
   },
   "source": [
    "#### **Averiguaremos cuántos casos de abandono (churn) están presentes en el dataset por medio de 4 caminos**\n",
    "\n",
    "A continuación se presentan 4 pedazos de código (A, B, C, D).\n",
    "\n",
    "El ejercicio consiste en asignar cada uno de estos códigos a los bloques que correspondan con la descripción. Le ayudaremos con un ejemplo más abajo.\n",
    "\n",
    "Código A\n",
    "```\n",
    "plt.pie(df['Abandono'].value_counts(), labels=df['Abandono'].value_counts().index, autopct='%1.1f%%')\n",
    "plt.show()\n",
    "```\n",
    "\n",
    "Código B\n",
    "```\n",
    "df['Abandono'].value_counts()/df.shape[0]*100\n",
    "```\n",
    "\n",
    "Código C\n",
    "```\n",
    "df['Abandono'].value_counts()\n",
    "```\n",
    "\n",
    "Código D\n",
    "```\n",
    "sns.countplot(x=\"Abandono\", data=df, palette=\"Blues\");\n",
    "plt.show()\n",
    "```\n",
    "\n",
    "\n",
    "\n",
    "\n",
    "\n",
    "\n",
    "\n",
    "\n",
    "\n"
   ]
  },
  {
   "cell_type": "markdown",
   "metadata": {
    "id": "LNAwuZDnjs4V"
   },
   "source": [
    "Como ejemplo, en el primer bloque que pide poner las cifras absolutas se le asigna el código C"
   ]
  },
  {
   "cell_type": "code",
   "execution_count": null,
   "metadata": {
    "id": "2jS82m1CjJEM"
   },
   "outputs": [],
   "source": [
    "# Obtiene las cifras absolutas de la variable de abandono\n",
    "# Aquí va el código C"
   ]
  },
  {
   "cell_type": "markdown",
   "metadata": {
    "id": "LWs4q0D-mVSj"
   },
   "source": [
    "Ahora usted..."
   ]
  },
  {
   "cell_type": "code",
   "execution_count": null,
   "metadata": {
    "id": "hIzU16aElRsd"
   },
   "outputs": [],
   "source": [
    "# Obtiene los porcentajes de la variable de abandono (churn)\n"
   ]
  },
  {
   "cell_type": "code",
   "execution_count": null,
   "metadata": {
    "id": "gznN_vnwlYJE"
   },
   "outputs": [],
   "source": [
    "# Genera un diagrama de barras para la variable de abandono (churn)\n"
   ]
  },
  {
   "cell_type": "code",
   "execution_count": null,
   "metadata": {
    "id": "_F6M4bLaln00"
   },
   "outputs": [],
   "source": [
    "# Genera un diagrama de pastel para la variable de abandono (churn)\n"
   ]
  },
  {
   "cell_type": "markdown",
   "metadata": {
    "id": "QDzPdh_9XauV"
   },
   "source": [
    "**Interpréte el diagrama de caja y bigote de la variable de edad**\n",
    "\n",
    "Observe el diagrama de caja y bigote\n"
   ]
  },
  {
   "cell_type": "code",
   "execution_count": null,
   "metadata": {
    "id": "AKzRQVt0rw-X"
   },
   "outputs": [],
   "source": [
    "# Ajusta el tamaño de la imagen\n",
    "plt.figure(figsize=(5,4))\n",
    "\n",
    "# Realiza el diagrama de caja para la variable edad\n",
    "sns.boxplot(y= 'Edad', data= df)\n",
    "\n",
    "# Despliega la figura creada\n",
    "plt.show()"
   ]
  },
  {
   "cell_type": "markdown",
   "metadata": {
    "id": "0aiFtuF1mbh8"
   },
   "source": [
    "¿Que análisis puede realizar de la variable de edad?"
   ]
  },
  {
   "cell_type": "code",
   "execution_count": null,
   "metadata": {
    "id": "E7WkNCMGmpRv"
   },
   "outputs": [],
   "source": [
    "'''\n",
    " Respuesta:\n",
    "\n",
    " '''"
   ]
  },
  {
   "cell_type": "markdown",
   "metadata": {
    "id": "LQBFK-ybYERW"
   },
   "source": [
    "####**Realice un diagrama de dispersión entre las variables de Balance y el salario estimado del cliente**"
   ]
  },
  {
   "cell_type": "markdown",
   "metadata": {
    "id": "JcBu1hwiqRXE"
   },
   "source": [
    "Por favor asigne al parámetro `y`, dentro de la función `scatterplot`, la variable de salario.\n",
    "\n",
    "**Pista: Revise en la tabla presentada al inicio el nombre específico de esta variable**"
   ]
  },
  {
   "cell_type": "code",
   "execution_count": null,
   "metadata": {
    "id": "3Dk0R3F3rzhj"
   },
   "outputs": [],
   "source": [
    "plt.figure(figsize=(8,8))\n",
    "sns.scatterplot(x=\"Balance\", y=\"\", data=df)\n",
    "plt.show()"
   ]
  },
  {
   "cell_type": "markdown",
   "metadata": {
    "id": "-LoRLxpp9Jt7"
   },
   "source": [
    "Basándose en la gráfica de dispersión presentada ¿Que análisis podría hacer de la relación entre las variables salario y balance?"
   ]
  },
  {
   "cell_type": "code",
   "execution_count": null,
   "metadata": {
    "id": "mePYZ8Bj98Of"
   },
   "outputs": [],
   "source": [
    "'''\n",
    "Respuesta:\n",
    "\n",
    "\n",
    "'''"
   ]
  },
  {
   "cell_type": "markdown",
   "metadata": {
    "id": "tpepSNyqaR5V"
   },
   "source": [
    "####**Para conocer más a fondo la distribución de las variables numéricas y su relación con la variable de Abandono, se realiza un boxplot con la variable Abandono en el eje x, junto con las siguientes variables:**\n",
    "1. Puntaje crediticio\n",
    "2. Balance\n",
    "3. Edad\n",
    "4. Salario estimado"
   ]
  },
  {
   "cell_type": "code",
   "execution_count": null,
   "metadata": {
    "id": "svIU6A61b7BB"
   },
   "outputs": [],
   "source": [
    "# Ajusta el canva para tener las cuatro gráficas\n",
    "plt.figure(figsize=(10, 8))\n",
    "\n",
    "# Grafica en el primer cuadrante el boxplot para puntaje crediticio\n",
    "plt.subplot(2, 2, 1)\n",
    "sns.boxplot(y=\"Puntaje_crediticio\", x=\"Abandono\", data=df)\n",
    "plt.title(\"Puntaje Crediticio vs Abandono\")\n",
    "\n",
    "# Grafica en el segundo cuadrante el boxplot para Balance\n",
    "plt.subplot(2, 2, 2)\n",
    "sns.boxplot(y=\"Balance\", x=\"Abandono\", data=df)\n",
    "plt.title(\"Balance vs Abandono\")\n",
    "\n",
    "# Grafica en el tercer cuadrante el boxplot para Edad\n",
    "plt.subplot(2, 2, 3)\n",
    "sns.boxplot(y=\"Edad\", x=\"Abandono\", data=df)\n",
    "plt.title(\"Edad vs Abandono\")\n",
    "\n",
    "# Grafica en el cuarto cuadrante el boxplot para Salario estimado\n",
    "plt.subplot(2, 2, 4)\n",
    "sns.boxplot(y=\"Salario_estimado\", x=\"Abandono\", data=df)\n",
    "plt.title(\"Salario estimado vs Abandono\")\n",
    "\n",
    "# Display the plots\n",
    "plt.tight_layout()  # Adjusts spacing between plots to prevent overlap\n",
    "plt.show()"
   ]
  },
  {
   "cell_type": "markdown",
   "metadata": {
    "id": "Qk7bSHCgb4eV"
   },
   "source": [
    "¿A que conclusiones puede llegar teniendo los boxplot para las variables?\n",
    "\n",
    "¿Para que variable numérica difieren más los registros de abandono y no abandono?"
   ]
  },
  {
   "cell_type": "code",
   "execution_count": null,
   "metadata": {
    "id": "7MzGYUwycKyx"
   },
   "outputs": [],
   "source": [
    "'''\n",
    " Respuesta:\n",
    "\n",
    " '''"
   ]
  },
  {
   "cell_type": "markdown",
   "metadata": {
    "id": "3iXqgkE8c8rA"
   },
   "source": [
    "**Finalmente, visualice la matriz de correlación para las variables numérica como un heatmap, tal como se hizo en el ejercicio del Titanic**"
   ]
  },
  {
   "cell_type": "code",
   "execution_count": null,
   "metadata": {
    "id": "5kkrf0GSp7w4"
   },
   "outputs": [],
   "source": [
    "# Selecciona solo columnas numéricas\n",
    "numeric_data = df.select_dtypes(include=['number'])\n",
    "\n",
    "# Calcular la matriz de correlación\n",
    "correlation_matrix = numeric_data.corr()\n",
    "\n",
    "# Crear el heatmap\n",
    "plt.figure(figsize=(6, 6))\n",
    "sns.heatmap(correlation_matrix, cmap=\"YlGnBu\", annot=True, fmt=\".2f\")\n",
    "plt.title(\"Matriz de Correlación\")\n",
    "plt.show()"
   ]
  },
  {
   "cell_type": "markdown",
   "metadata": {
    "id": "9bqXanD2dbVH"
   },
   "source": [
    "¿Cuál es el par de variables que más se correlaciona positivamente y negativamente?"
   ]
  },
  {
   "cell_type": "code",
   "execution_count": null,
   "metadata": {
    "id": "R4KEJrf5dg4I"
   },
   "outputs": [],
   "source": [
    "'''\n",
    " Respuesta:\n",
    "\n",
    " '''"
   ]
  },
  {
   "cell_type": "markdown",
   "metadata": {
    "id": "W7Yrd7hcEMq4"
   },
   "source": [
    "### 1.6 One-Hot Encoding"
   ]
  },
  {
   "cell_type": "markdown",
   "metadata": {
    "id": "Im07TtccETQk"
   },
   "source": [
    "Buscamos aplicar la técnica convirtiendo las categorias de estas columnas en columnas binarias con unos y ceros."
   ]
  },
  {
   "cell_type": "markdown",
   "metadata": {
    "id": "LbSjb9OgKWqn"
   },
   "source": [
    "**Por favor complete la lista `categorical_vars` con la otra variable categórica restante asociada al género.**"
   ]
  },
  {
   "cell_type": "code",
   "execution_count": null,
   "metadata": {
    "id": "FqGEj09oEW91"
   },
   "outputs": [],
   "source": [
    "# Define las variables categóricas que se codificarán con one-hot encoding\n",
    "categorical_vars = ['Pais','']\n",
    "\n",
    "# Definimos el tipo de las columnas binarias\n",
    "tipo_binarias = 'int'\n",
    "\n",
    "# Aplica la codificación one-hot a las variables categóricas especificadas\n",
    "df = pd.get_dummies(df, columns=categorical_vars, dtype=tipo_binarias)"
   ]
  },
  {
   "cell_type": "code",
   "execution_count": null,
   "metadata": {
    "id": "Aq5deyvvEi-U"
   },
   "outputs": [],
   "source": [
    "df.head()"
   ]
  },
  {
   "cell_type": "code",
   "execution_count": null,
   "metadata": {
    "id": "Ouh-gfn4EqR5"
   },
   "outputs": [],
   "source": [
    "# Define las columnas a eliminar por redundancia\n",
    "columnas_eliminar = ['', 'Pais_Spain']\n",
    "\n",
    "# Se eliminan las columnas definidas con la función drop\n",
    "df = df.drop(columns=columnas_eliminar)\n",
    "\n",
    "# Muestra los primeros registros del dataset para verificar las columnas\n",
    "df.head()"
   ]
  },
  {
   "cell_type": "markdown",
   "metadata": {
    "id": "ojNvwQNJ0_Nr"
   },
   "source": [
    "## 2. Sección de Modelado de Clasificación\n",
    "\n",
    "En esta sección, deberá ejecutar al menos un modelo de clasificación. Algunos de los modelos más populares y ampliamente utilizados incluyen la **regresión logística**, **árboles de decisión**, y **bosques aleatorios (Random Forest)**. Le proporcionaremos una guía inicial para implementar uno de estos modelos. Además, se espera que seleccione y aplique al menos un algoritmo adicional de clasificación.\n",
    "\n",
    "Después de implementar estos modelos, realice el cálculo de las métricas de rendimiento para cada uno y determine cuál considera que es el mejor modelo para responder a nuestra pregunta de negocio. Fundamente su elección en los resultados obtenidos.\n",
    "\n"
   ]
  },
  {
   "cell_type": "markdown",
   "metadata": {
    "id": "2FlG-vwn41Xa"
   },
   "source": [
    "Antes de comenzar con los modelos adicionales, primero le mostraremos cómo ejecutar un modelo de **Árbol de decisión**. Esta guía paso a paso le servirá como base para comprender los procesos involucrados en la configuración y evaluación de modelos de clasificación.\n",
    "\n",
    "Después de implementar el árbol de decisión,  deberá seleccionar y aplicar al menos un algoritmo adicional de clasificación. Algunas opciones recomendadas incluyen **regresión lógistica** y **bosques aleatorios (Random Forest)**.\n",
    "\n",
    "Finalmente, realice el cálculo de las métricas de rendimiento para cada modelo y determine cuál es el más adecuado para responder a nuestra pregunta de negocio basándose en los resultados obtenidos.\n"
   ]
  },
  {
   "cell_type": "markdown",
   "metadata": {
    "id": "N2TDy9Ux8auj"
   },
   "source": [
    "**2.1 En esta sección puede observar como esta nuestro dataset antes de realizar la separación en entrenamiento y test**."
   ]
  },
  {
   "cell_type": "code",
   "execution_count": 10,
   "metadata": {
    "id": "YNM7QA-GcP4A"
   },
   "outputs": [
    {
     "data": {
      "text/html": [
       "<div>\n",
       "<style scoped>\n",
       "    .dataframe tbody tr th:only-of-type {\n",
       "        vertical-align: middle;\n",
       "    }\n",
       "\n",
       "    .dataframe tbody tr th {\n",
       "        vertical-align: top;\n",
       "    }\n",
       "\n",
       "    .dataframe thead th {\n",
       "        text-align: right;\n",
       "    }\n",
       "</style>\n",
       "<table border=\"1\" class=\"dataframe\">\n",
       "  <thead>\n",
       "    <tr style=\"text-align: right;\">\n",
       "      <th></th>\n",
       "      <th>Puntaje_crediticio</th>\n",
       "      <th>Edad</th>\n",
       "      <th>Antiguedad</th>\n",
       "      <th>Balance</th>\n",
       "      <th>Num_productos</th>\n",
       "      <th>Tarjeta_credito</th>\n",
       "      <th>Miembro_activo</th>\n",
       "      <th>Salario_estimado</th>\n",
       "      <th>Abandono</th>\n",
       "      <th>Pais_France</th>\n",
       "      <th>Pais_Germany</th>\n",
       "      <th>Genero_Male</th>\n",
       "    </tr>\n",
       "  </thead>\n",
       "  <tbody>\n",
       "    <tr>\n",
       "      <th>0</th>\n",
       "      <td>619</td>\n",
       "      <td>42</td>\n",
       "      <td>2</td>\n",
       "      <td>0.00</td>\n",
       "      <td>1</td>\n",
       "      <td>1</td>\n",
       "      <td>1</td>\n",
       "      <td>101348.88</td>\n",
       "      <td>1</td>\n",
       "      <td>1</td>\n",
       "      <td>0</td>\n",
       "      <td>0</td>\n",
       "    </tr>\n",
       "    <tr>\n",
       "      <th>1</th>\n",
       "      <td>608</td>\n",
       "      <td>41</td>\n",
       "      <td>1</td>\n",
       "      <td>83807.86</td>\n",
       "      <td>1</td>\n",
       "      <td>0</td>\n",
       "      <td>1</td>\n",
       "      <td>112542.58</td>\n",
       "      <td>0</td>\n",
       "      <td>0</td>\n",
       "      <td>0</td>\n",
       "      <td>0</td>\n",
       "    </tr>\n",
       "    <tr>\n",
       "      <th>2</th>\n",
       "      <td>502</td>\n",
       "      <td>42</td>\n",
       "      <td>8</td>\n",
       "      <td>159660.80</td>\n",
       "      <td>3</td>\n",
       "      <td>1</td>\n",
       "      <td>0</td>\n",
       "      <td>113931.57</td>\n",
       "      <td>1</td>\n",
       "      <td>1</td>\n",
       "      <td>0</td>\n",
       "      <td>0</td>\n",
       "    </tr>\n",
       "    <tr>\n",
       "      <th>3</th>\n",
       "      <td>699</td>\n",
       "      <td>39</td>\n",
       "      <td>1</td>\n",
       "      <td>0.00</td>\n",
       "      <td>2</td>\n",
       "      <td>0</td>\n",
       "      <td>0</td>\n",
       "      <td>93826.63</td>\n",
       "      <td>0</td>\n",
       "      <td>1</td>\n",
       "      <td>0</td>\n",
       "      <td>0</td>\n",
       "    </tr>\n",
       "    <tr>\n",
       "      <th>4</th>\n",
       "      <td>850</td>\n",
       "      <td>43</td>\n",
       "      <td>2</td>\n",
       "      <td>125510.82</td>\n",
       "      <td>1</td>\n",
       "      <td>1</td>\n",
       "      <td>1</td>\n",
       "      <td>79084.10</td>\n",
       "      <td>0</td>\n",
       "      <td>0</td>\n",
       "      <td>0</td>\n",
       "      <td>0</td>\n",
       "    </tr>\n",
       "  </tbody>\n",
       "</table>\n",
       "</div>"
      ],
      "text/plain": [
       "   Puntaje_crediticio  Edad  Antiguedad    Balance  Num_productos  \\\n",
       "0                 619    42           2       0.00              1   \n",
       "1                 608    41           1   83807.86              1   \n",
       "2                 502    42           8  159660.80              3   \n",
       "3                 699    39           1       0.00              2   \n",
       "4                 850    43           2  125510.82              1   \n",
       "\n",
       "   Tarjeta_credito  Miembro_activo  Salario_estimado  Abandono  Pais_France  \\\n",
       "0                1               1         101348.88         1            1   \n",
       "1                0               1         112542.58         0            0   \n",
       "2                1               0         113931.57         1            1   \n",
       "3                0               0          93826.63         0            1   \n",
       "4                1               1          79084.10         0            0   \n",
       "\n",
       "   Pais_Germany  Genero_Male  \n",
       "0             0            0  \n",
       "1             0            0  \n",
       "2             0            0  \n",
       "3             0            0  \n",
       "4             0            0  "
      ]
     },
     "execution_count": 10,
     "metadata": {},
     "output_type": "execute_result"
    }
   ],
   "source": [
    "df.head()"
   ]
  },
  {
   "cell_type": "markdown",
   "metadata": {
    "id": "oR3-IrpUCBRX"
   },
   "source": [
    "**Le mostramos como se debería ver su dataset hasta el momento como una herramienta para que pueda comparar**"
   ]
  },
  {
   "cell_type": "code",
   "execution_count": 11,
   "metadata": {
    "id": "xtI4ExiyBuNN"
   },
   "outputs": [
    {
     "data": {
      "image/png": "[encoded data removed]",
      "text/plain": [
       "<IPython.core.display.Image object>"
      ]
     },
     "metadata": {},
     "output_type": "display_data"
    }
   ],
   "source": [
    "display(Image('imagenes/img01.png'))\n"
   ]
  },
  {
   "cell_type": "markdown",
   "metadata": {
    "id": "rDUlKE1o84W3"
   },
   "source": [
    "**2.2 División del dataset en entrenamiento y prueba**"
   ]
  },
  {
   "cell_type": "markdown",
   "metadata": {
    "id": "3z8Xbdkg_zQr"
   },
   "source": [
    "Dentro de las comillas debe colocar el nombre de la variable que desea predecir, recuerde que se trata del churn y es muy importante definir de manera adecuada esta variable ya que con esto podemos llegar a tomar decisiones estratégicas."
   ]
  },
  {
   "cell_type": "code",
   "execution_count": 12,
   "metadata": {
    "id": "420BGDD-CpT3"
   },
   "outputs": [],
   "source": [
    "# Separar características y variable objetivo\n",
    "X = df.drop(columns=['Abandono'])\n",
    "y = df['Abandono']"
   ]
  },
  {
   "cell_type": "code",
   "execution_count": null,
   "metadata": {
    "id": "AreU6jrA8Cgc"
   },
   "outputs": [],
   "source": [
    "# Separar características y variable objetivo\n",
    "X = df.drop(columns=[''])\n",
    "y = df['']"
   ]
  },
  {
   "cell_type": "code",
   "execution_count": 14,
   "metadata": {
    "id": "gFS0y6eiC68_"
   },
   "outputs": [],
   "source": [
    "# Dividir en conjunto de entrenamiento y prueba\n",
    "porc_conjunto_prueba = 0.2\n",
    "X_entreno, X_prueba, y_entreno, y_prueba = train_test_split(X, y, test_size=porc_conjunto_prueba, random_state=123)"
   ]
  },
  {
   "cell_type": "markdown",
   "metadata": {
    "id": "oGi_uGVw95Bk"
   },
   "source": [
    "**¿Considera adecuada una división de 20% para test y 80% para entrenamiento de acuerdo al código anterior?**"
   ]
  },
  {
   "cell_type": "markdown",
   "metadata": {
    "id": "tnGNL-Hc-DtN"
   },
   "source": [
    "Justifique su respuesta aqui:"
   ]
  },
  {
   "cell_type": "markdown",
   "metadata": {
    "id": "wzbVkFUo99A5"
   },
   "source": [
    "**¿Cómo cree que podría afectar una división diferente del conjunto de datos, como un 70% para entrenamiento y un 30% para pruebas, a la precisión y generalización del modelo?**"
   ]
  },
  {
   "cell_type": "markdown",
   "metadata": {
    "id": "Jm0759ta-I_O"
   },
   "source": [
    "Justifique su respuesta aqui:"
   ]
  },
  {
   "cell_type": "code",
   "execution_count": 15,
   "metadata": {
    "id": "-JNsZUTb98aH"
   },
   "outputs": [
    {
     "data": {
      "text/html": [
       "<div>\n",
       "<style scoped>\n",
       "    .dataframe tbody tr th:only-of-type {\n",
       "        vertical-align: middle;\n",
       "    }\n",
       "\n",
       "    .dataframe tbody tr th {\n",
       "        vertical-align: top;\n",
       "    }\n",
       "\n",
       "    .dataframe thead th {\n",
       "        text-align: right;\n",
       "    }\n",
       "</style>\n",
       "<table border=\"1\" class=\"dataframe\">\n",
       "  <thead>\n",
       "    <tr style=\"text-align: right;\">\n",
       "      <th></th>\n",
       "      <th>Puntaje_crediticio</th>\n",
       "      <th>Edad</th>\n",
       "      <th>Antiguedad</th>\n",
       "      <th>Balance</th>\n",
       "      <th>Num_productos</th>\n",
       "      <th>Tarjeta_credito</th>\n",
       "      <th>Miembro_activo</th>\n",
       "      <th>Salario_estimado</th>\n",
       "      <th>Pais_France</th>\n",
       "      <th>Pais_Germany</th>\n",
       "      <th>Genero_Male</th>\n",
       "    </tr>\n",
       "  </thead>\n",
       "  <tbody>\n",
       "    <tr>\n",
       "      <th>9216</th>\n",
       "      <td>724</td>\n",
       "      <td>30</td>\n",
       "      <td>10</td>\n",
       "      <td>0.00</td>\n",
       "      <td>2</td>\n",
       "      <td>1</td>\n",
       "      <td>1</td>\n",
       "      <td>54265.55</td>\n",
       "      <td>1</td>\n",
       "      <td>0</td>\n",
       "      <td>1</td>\n",
       "    </tr>\n",
       "    <tr>\n",
       "      <th>7324</th>\n",
       "      <td>607</td>\n",
       "      <td>39</td>\n",
       "      <td>10</td>\n",
       "      <td>0.00</td>\n",
       "      <td>3</td>\n",
       "      <td>1</td>\n",
       "      <td>0</td>\n",
       "      <td>132741.13</td>\n",
       "      <td>1</td>\n",
       "      <td>0</td>\n",
       "      <td>0</td>\n",
       "    </tr>\n",
       "    <tr>\n",
       "      <th>918</th>\n",
       "      <td>784</td>\n",
       "      <td>35</td>\n",
       "      <td>3</td>\n",
       "      <td>0.00</td>\n",
       "      <td>2</td>\n",
       "      <td>0</td>\n",
       "      <td>0</td>\n",
       "      <td>81483.64</td>\n",
       "      <td>0</td>\n",
       "      <td>0</td>\n",
       "      <td>1</td>\n",
       "    </tr>\n",
       "    <tr>\n",
       "      <th>5902</th>\n",
       "      <td>694</td>\n",
       "      <td>38</td>\n",
       "      <td>9</td>\n",
       "      <td>0.00</td>\n",
       "      <td>2</td>\n",
       "      <td>1</td>\n",
       "      <td>0</td>\n",
       "      <td>40463.03</td>\n",
       "      <td>1</td>\n",
       "      <td>0</td>\n",
       "      <td>1</td>\n",
       "    </tr>\n",
       "    <tr>\n",
       "      <th>2807</th>\n",
       "      <td>705</td>\n",
       "      <td>33</td>\n",
       "      <td>3</td>\n",
       "      <td>144427.96</td>\n",
       "      <td>2</td>\n",
       "      <td>1</td>\n",
       "      <td>0</td>\n",
       "      <td>113845.19</td>\n",
       "      <td>1</td>\n",
       "      <td>0</td>\n",
       "      <td>1</td>\n",
       "    </tr>\n",
       "  </tbody>\n",
       "</table>\n",
       "</div>"
      ],
      "text/plain": [
       "      Puntaje_crediticio  Edad  Antiguedad    Balance  Num_productos  \\\n",
       "9216                 724    30          10       0.00              2   \n",
       "7324                 607    39          10       0.00              3   \n",
       "918                  784    35           3       0.00              2   \n",
       "5902                 694    38           9       0.00              2   \n",
       "2807                 705    33           3  144427.96              2   \n",
       "\n",
       "      Tarjeta_credito  Miembro_activo  Salario_estimado  Pais_France  \\\n",
       "9216                1               1          54265.55            1   \n",
       "7324                1               0         132741.13            1   \n",
       "918                 0               0          81483.64            0   \n",
       "5902                1               0          40463.03            1   \n",
       "2807                1               0         113845.19            1   \n",
       "\n",
       "      Pais_Germany  Genero_Male  \n",
       "9216             0            1  \n",
       "7324             0            0  \n",
       "918              0            1  \n",
       "5902             0            1  \n",
       "2807             0            1  "
      ]
     },
     "execution_count": 15,
     "metadata": {},
     "output_type": "execute_result"
    }
   ],
   "source": [
    "X_entreno.head()"
   ]
  },
  {
   "cell_type": "markdown",
   "metadata": {
    "id": "vu6L0ZWe01xA"
   },
   "source": [
    "**Después de haber realizado la separación de su dataset de entrenamiento así debería visualizarse, úselo como una guía para el ejercicio que está desarrollando**  "
   ]
  },
  {
   "cell_type": "code",
   "execution_count": 16,
   "metadata": {
    "id": "lbSwV68EUGt9"
   },
   "outputs": [
    {
     "data": {
      "image/png": "[encoded data removed]",
      "text/plain": [
       "<IPython.core.display.Image object>"
      ]
     },
     "metadata": {},
     "output_type": "display_data"
    }
   ],
   "source": [
    "display(Image('imagenes/img02.png'))"
   ]
  },
  {
   "cell_type": "markdown",
   "metadata": {
    "id": "RzQS0tCq-z1_"
   },
   "source": [
    "**¿Cuantos datos para entrenamiento (train) tiene después de realizar la división?**"
   ]
  },
  {
   "cell_type": "code",
   "execution_count": 17,
   "metadata": {
    "id": "5WvIUljP_H0V"
   },
   "outputs": [],
   "source": [
    "#Inserte su código aqui\n"
   ]
  },
  {
   "cell_type": "code",
   "execution_count": 18,
   "metadata": {
    "id": "Vn5UyiRs9XbO"
   },
   "outputs": [
    {
     "data": {
      "text/html": [
       "<div>\n",
       "<style scoped>\n",
       "    .dataframe tbody tr th:only-of-type {\n",
       "        vertical-align: middle;\n",
       "    }\n",
       "\n",
       "    .dataframe tbody tr th {\n",
       "        vertical-align: top;\n",
       "    }\n",
       "\n",
       "    .dataframe thead th {\n",
       "        text-align: right;\n",
       "    }\n",
       "</style>\n",
       "<table border=\"1\" class=\"dataframe\">\n",
       "  <thead>\n",
       "    <tr style=\"text-align: right;\">\n",
       "      <th></th>\n",
       "      <th>Puntaje_crediticio</th>\n",
       "      <th>Edad</th>\n",
       "      <th>Antiguedad</th>\n",
       "      <th>Balance</th>\n",
       "      <th>Num_productos</th>\n",
       "      <th>Tarjeta_credito</th>\n",
       "      <th>Miembro_activo</th>\n",
       "      <th>Salario_estimado</th>\n",
       "      <th>Pais_France</th>\n",
       "      <th>Pais_Germany</th>\n",
       "      <th>Genero_Male</th>\n",
       "    </tr>\n",
       "  </thead>\n",
       "  <tbody>\n",
       "    <tr>\n",
       "      <th>2656</th>\n",
       "      <td>779</td>\n",
       "      <td>34</td>\n",
       "      <td>5</td>\n",
       "      <td>0.00</td>\n",
       "      <td>2</td>\n",
       "      <td>0</td>\n",
       "      <td>1</td>\n",
       "      <td>111676.63</td>\n",
       "      <td>0</td>\n",
       "      <td>0</td>\n",
       "      <td>0</td>\n",
       "    </tr>\n",
       "    <tr>\n",
       "      <th>445</th>\n",
       "      <td>748</td>\n",
       "      <td>26</td>\n",
       "      <td>1</td>\n",
       "      <td>77780.29</td>\n",
       "      <td>1</td>\n",
       "      <td>0</td>\n",
       "      <td>1</td>\n",
       "      <td>183049.41</td>\n",
       "      <td>1</td>\n",
       "      <td>0</td>\n",
       "      <td>0</td>\n",
       "    </tr>\n",
       "    <tr>\n",
       "      <th>9505</th>\n",
       "      <td>651</td>\n",
       "      <td>28</td>\n",
       "      <td>10</td>\n",
       "      <td>79562.98</td>\n",
       "      <td>1</td>\n",
       "      <td>1</td>\n",
       "      <td>1</td>\n",
       "      <td>74687.37</td>\n",
       "      <td>1</td>\n",
       "      <td>0</td>\n",
       "      <td>1</td>\n",
       "    </tr>\n",
       "    <tr>\n",
       "      <th>332</th>\n",
       "      <td>663</td>\n",
       "      <td>44</td>\n",
       "      <td>2</td>\n",
       "      <td>117028.60</td>\n",
       "      <td>2</td>\n",
       "      <td>0</td>\n",
       "      <td>1</td>\n",
       "      <td>144680.18</td>\n",
       "      <td>0</td>\n",
       "      <td>1</td>\n",
       "      <td>1</td>\n",
       "    </tr>\n",
       "    <tr>\n",
       "      <th>4168</th>\n",
       "      <td>516</td>\n",
       "      <td>37</td>\n",
       "      <td>8</td>\n",
       "      <td>0.00</td>\n",
       "      <td>1</td>\n",
       "      <td>1</td>\n",
       "      <td>0</td>\n",
       "      <td>101834.58</td>\n",
       "      <td>1</td>\n",
       "      <td>0</td>\n",
       "      <td>1</td>\n",
       "    </tr>\n",
       "  </tbody>\n",
       "</table>\n",
       "</div>"
      ],
      "text/plain": [
       "      Puntaje_crediticio  Edad  Antiguedad    Balance  Num_productos  \\\n",
       "2656                 779    34           5       0.00              2   \n",
       "445                  748    26           1   77780.29              1   \n",
       "9505                 651    28          10   79562.98              1   \n",
       "332                  663    44           2  117028.60              2   \n",
       "4168                 516    37           8       0.00              1   \n",
       "\n",
       "      Tarjeta_credito  Miembro_activo  Salario_estimado  Pais_France  \\\n",
       "2656                0               1         111676.63            0   \n",
       "445                 0               1         183049.41            1   \n",
       "9505                1               1          74687.37            1   \n",
       "332                 0               1         144680.18            0   \n",
       "4168                1               0         101834.58            1   \n",
       "\n",
       "      Pais_Germany  Genero_Male  \n",
       "2656             0            0  \n",
       "445              0            0  \n",
       "9505             0            1  \n",
       "332              1            1  \n",
       "4168             0            1  "
      ]
     },
     "execution_count": 18,
     "metadata": {},
     "output_type": "execute_result"
    }
   ],
   "source": [
    "X_prueba.head()"
   ]
  },
  {
   "cell_type": "markdown",
   "metadata": {
    "id": "W-GJJ-411Mi6"
   },
   "source": [
    "**Después de haber realizo la separación de su dataset de prueba así debería visualizarse, úselo como una guía para el ejercicio que está desarrollando**"
   ]
  },
  {
   "cell_type": "code",
   "execution_count": 19,
   "metadata": {
    "id": "O3RZ6OwoUJxo"
   },
   "outputs": [
    {
     "data": {
      "image/png": "[encoded data removed]",
      "text/plain": [
       "<IPython.core.display.Image object>"
      ]
     },
     "metadata": {},
     "output_type": "display_data"
    }
   ],
   "source": [
    "display(Image('imagenes/img03.png'))"
   ]
  },
  {
   "cell_type": "markdown",
   "metadata": {
    "id": "GJuCLT4v-_gy"
   },
   "source": [
    "**¿Cuantos datos para probar (test) tiene después de realizar la división?**"
   ]
  },
  {
   "cell_type": "code",
   "execution_count": 20,
   "metadata": {
    "id": "BD4GqNnb9A-D"
   },
   "outputs": [],
   "source": [
    "#Inserte su codigo aqui"
   ]
  },
  {
   "cell_type": "markdown",
   "metadata": {
    "id": "XDvRO27hBUDR"
   },
   "source": [
    "**¿Qué puede observar que cambio respecto a la sección 2.1?**"
   ]
  },
  {
   "cell_type": "markdown",
   "metadata": {
    "id": "0dNlKoQVBgrh"
   },
   "source": [
    "Justifique su respuesta aqui:"
   ]
  },
  {
   "cell_type": "markdown",
   "metadata": {
    "id": "olXlp0SRCmv3"
   },
   "source": [
    "**2.5 Preparando el Modelo**"
   ]
  },
  {
   "cell_type": "markdown",
   "metadata": {
    "id": "3wwKp2_9g-s6"
   },
   "source": [
    "# **Árboles de Decisión**\n",
    "\n",
    "<figure>\n",
    "<center>\n",
    "<img src='https://raw.githubusercontent.com/jmpaiba123/Bootcamp_analitica/main/Data/Images/decision_tree.png' width=\"600\" height=\"300\" />\n",
    "<figcaption></figcaption></center>\n",
    "</figure>\n",
    "\n",
    "Un **árbol de decisión** es un modelo de aprendizaje automático utilizado para tareas de clasificación y regresión. En problemas de **clasificación binaria**, se usa para predecir a qué una de dos clases pertenece una muestra."
   ]
  },
  {
   "cell_type": "markdown",
   "metadata": {
    "id": "PgZfAyBHhWeo"
   },
   "source": [
    "## Demostración de un Árbol de Decisión\n",
    "\n",
    "En la siguiente sección, te mostraremos cómo se comporta un árbol de decisión al ser aplicado a nuestros datos. Exploraremos cómo este modelo toma decisiones y evalúa sus resultados, proporcionando una visión clara de su funcionamiento y eficacia.\n"
   ]
  },
  {
   "cell_type": "markdown",
   "metadata": {
    "id": "zujB8LM_1anV"
   },
   "source": [
    "**2.5.1 Ajuste del modelo de árbol de decisión**\n",
    "\n",
    "En esta sección se presenta la forma en la cual se define un modelo de arbol de decisión (DecisionTreeClassifier), en este paso se debe utilizar el dataset de entrenamiento (X_entreno) Junto con ka variable que se requiere predecir (y_entreno), esto debido a que el modelo requiere aprender sobre estos datos para luego ser validados en el cojunto que queremos probar (X_prueba)."
   ]
  },
  {
   "cell_type": "code",
   "execution_count": 21,
   "metadata": {
    "id": "QFSbLFWGQt2D"
   },
   "outputs": [
    {
     "data": {
      "text/plain": [
       "DecisionTreeClassifier(max_depth=3, random_state=0)"
      ]
     },
     "execution_count": 21,
     "metadata": {},
     "output_type": "execute_result"
    }
   ],
   "source": [
    "# Entrenar el árbol de decisión con un límite de profundidad\n",
    "clf = DecisionTreeClassifier(max_depth=3, random_state=0)\n",
    "clf.fit(X_entreno, y_entreno)"
   ]
  },
  {
   "cell_type": "markdown",
   "metadata": {
    "id": "bvS8_Ykx2eDu"
   },
   "source": [
    "**2.5.2 Predicción con el dataser de entrenamiento y prueba**\n",
    "\n",
    "Una vez que el modelo ya ha logrado entender los datos del dataset de entrenamiento requerimos validarlo con nuestro dataset de prueba (X_prueba), para ello utilizamos la función **predict**"
   ]
  },
  {
   "cell_type": "code",
   "execution_count": 22,
   "metadata": {
    "id": "rNziErAHRLSL"
   },
   "outputs": [],
   "source": [
    "# Predicciones\n",
    "y_pred_entreno_dt = clf.predict(X_entreno)\n",
    "y_pred_prueba_dt = clf.predict(X_prueba)"
   ]
  },
  {
   "cell_type": "code",
   "execution_count": 23,
   "metadata": {},
   "outputs": [
    {
     "name": "stdout",
     "output_type": "stream",
     "text": [
      "Longitud de y_entreno: 8000\n",
      "Longitud de y_pred_entreno_dt: 8000\n",
      "Longitud de y_prueba: 2000\n",
      "Longitud de y_pred_prueba_dt: 2000\n"
     ]
    }
   ],
   "source": [
    "y_pred_entreno_dt = clf.predict(X_entreno)\n",
    "y_pred_prueba_dt = clf.predict(X_prueba)\n",
    "\n",
    "# Verificación de longitudes\n",
    "print('Longitud de y_entreno:', len(y_entreno))                  # Debería ser 8000\n",
    "print('Longitud de y_pred_entreno_dt:', len(y_pred_entreno_dt))  # Debería ser 8000\n",
    "print('Longitud de y_prueba:', len(y_prueba))                    # Debería ser 2000\n",
    "print('Longitud de y_pred_prueba_dt:', len(y_pred_prueba_dt))    # Debería ser 2000"
   ]
  },
  {
   "cell_type": "markdown",
   "metadata": {
    "id": "AWhrGLpn3Pry"
   },
   "source": [
    "**2.5.3 Matrices de confusión**\n",
    "\n",
    "Una matriz de confusión es una tabla que te permite visualizar el rendimiento de un modelo de clasificación. Muestra cuántas predicciones fueron correctas e incorrectas, separadas por cada clase (Abandono, No abandono)"
   ]
  },
  {
   "cell_type": "code",
   "execution_count": 24,
   "metadata": {
    "id": "lr_1JRFpimex"
   },
   "outputs": [
    {
     "data": {
      "image/png": "[encoded data removed]",
      "text/plain": [
       "<Figure size 800x400 with 3 Axes>"
      ]
     },
     "metadata": {},
     "output_type": "display_data"
    }
   ],
   "source": [
    "# Comparando resultados en conjunto de Entrenamiento vs Prueba\n",
    "frb.plot_confusion_matrix_and_reports(y_pred_entreno_dt, y_entreno)"
   ]
  },
  {
   "cell_type": "code",
   "execution_count": 25,
   "metadata": {},
   "outputs": [
    {
     "data": {
      "image/png": "[encoded data removed]",
      "text/plain": [
       "<Figure size 800x400 with 3 Axes>"
      ]
     },
     "metadata": {},
     "output_type": "display_data"
    }
   ],
   "source": [
    "frb.plot_confusion_matrix_and_reports(y_pred_prueba_dt, y_prueba)"
   ]
  },
  {
   "cell_type": "markdown",
   "metadata": {
    "id": "WX3KxKCNkUxd"
   },
   "source": [
    "- **¿Qué significa que la precisión de \"Abandona\" sea tan bajo?**"
   ]
  },
  {
   "cell_type": "markdown",
   "metadata": {
    "id": "vfize1AXlFRz"
   },
   "source": [
    "Justifique su respuesta aqui:"
   ]
  },
  {
   "cell_type": "markdown",
   "metadata": {
    "id": "PgAl0k_VlL9M"
   },
   "source": [
    " - **¿El modelo está cometiendo muchos falsos negativos o falsos positivos?**"
   ]
  },
  {
   "cell_type": "markdown",
   "metadata": {
    "id": "MKDV1w42lQ9V"
   },
   "source": [
    "Justifique su respuesta aqui:"
   ]
  },
  {
   "cell_type": "markdown",
   "metadata": {
    "id": "O9rubU9_lfgh"
   },
   "source": [
    "- **¿Qué tan confiable es el modelo para predecir si alguien no abandona?**"
   ]
  },
  {
   "cell_type": "markdown",
   "metadata": {
    "id": "7nXxQzzCTCVa"
   },
   "source": [
    "Justifique su respuesta aqui:"
   ]
  },
  {
   "cell_type": "markdown",
   "metadata": {
    "id": "Lsfmzy2imjgJ"
   },
   "source": [
    "**2.6 Variables más importantes en el modelo**"
   ]
  },
  {
   "cell_type": "code",
   "execution_count": 26,
   "metadata": {
    "id": "QVwl7i7Smt1I"
   },
   "outputs": [
    {
     "data": {
      "image/png": "[encoded data removed]",
      "text/plain": [
       "<Figure size 1000x600 with 1 Axes>"
      ]
     },
     "metadata": {},
     "output_type": "display_data"
    }
   ],
   "source": [
    "# Crear el dataset con las importancias de las variables\n",
    "feature_importances = pd.DataFrame({'Feature': X_entreno.columns, 'Importance': clf.feature_importances_})\n",
    "\n",
    "# Ordenar las variables por importancia\n",
    "feature_importances = feature_importances.sort_values(by='Importance', ascending=False)\n",
    "\n",
    "# Crear el gráfico de barras\n",
    "plt.figure(figsize=(10, 6))  # Tamaño del gráfico\n",
    "plt.barh(feature_importances['Feature'], feature_importances['Importance'], color='skyblue')\n",
    "plt.xlabel('Importancia')\n",
    "plt.ylabel('Feature')\n",
    "plt.title('Importancia de las variables')\n",
    "plt.gca().invert_yaxis()\n",
    "plt.show()\n",
    "\n"
   ]
  },
  {
   "cell_type": "markdown",
   "metadata": {
    "id": "UbCA2EQqn27r"
   },
   "source": [
    "**¿Por qué la edad es la variable más importante en el modelo?**"
   ]
  },
  {
   "cell_type": "markdown",
   "metadata": {
    "id": "G1hED3hKn7Mj"
   },
   "source": [
    "Justifique su respuesta aqui:"
   ]
  },
  {
   "cell_type": "markdown",
   "metadata": {
    "id": "20FvQmieoENp"
   },
   "source": [
    "**A pesar de que uno podría pensar que el \"Balance\" de una persona sería un factor importante para predecir el abandono, en este modelo parece tener una baja importancia. ¿Por qué crees que sucede esto?**"
   ]
  },
  {
   "cell_type": "markdown",
   "metadata": {
    "id": "Dv9Ur9zpoIJe"
   },
   "source": [
    "Justifique su respuesta aqui:"
   ]
  },
  {
   "cell_type": "markdown",
   "metadata": {
    "id": "nvq1cgrjpAw1"
   },
   "source": [
    "![Descripción de la imagen](https://cdn.memegenerator.es/descargar/884104)\n",
    "\n"
   ]
  },
  {
   "cell_type": "markdown",
   "metadata": {
    "id": "JuRAz2e3oGk5"
   },
   "source": [
    "**Es probable que si llegaste hasta este punto tengas dudas o inquietudes, sin embargo, recuerda que es posible contactarnos y podemos resolver todas esas preguntas que probablemente han surgido a lo largo del proceso.**"
   ]
  },
  {
   "cell_type": "markdown",
   "metadata": {
    "id": "tcCFCU8sr3yp"
   },
   "source": [
    "#Reto de Modelamiento"
   ]
  },
  {
   "cell_type": "markdown",
   "metadata": {
    "id": "ZiwvGywhsKRi"
   },
   "source": [
    "![Descripción de la imagen](https://www.descargarstickers.com/src_img/2020/05/474653.png)\n"
   ]
  },
  {
   "cell_type": "markdown",
   "metadata": {
    "id": "wr7qoCctsStV"
   },
   "source": [
    "# **Reto de Machine Learning: ¡Acepta el Desafío!**\n",
    "\n",
    "---\n",
    "\n",
    "### 1. Entrenamiento de Modelos Adicionales\n",
    "\n",
    "Te pedimos que, si deseas aceptar este reto y has llegado hasta acá, entrenes **al menos un modelo adicional de Machine Learning**:\n",
    "\n",
    "- **Regresión Logística**: Un modelo simple pero efectivo para tareas de clasificación.\n",
    "- **Random Forest**: Un modelo de conjunto poderoso que combina múltiples árboles de decisión.\n",
    "\n",
    "Para esto, puedes utilizar todos los pasos que seguiste en las secciones **2.5** y **2.6**\n",
    "\n",
    "---\n",
    "\n",
    "### 2. Evaluación del Modelo: Matriz de Confusión\n",
    "\n",
    "Después de entrenar el modelo, deberás calcular la **matriz de confusión** y **evaluar** su rendimiento. En particular:\n",
    "\n",
    "- Calcula la **precisión** y el **recall** del modelo resultante.\n",
    "- Interpreta los resultados obtenidos para entender cómo de bien están funcionando tus modelos.\n",
    "\n",
    "---\n",
    "\n",
    "### 3. Importancia de las Características\n",
    "\n",
    "Una vez que tengas el modelo entrenado, es importante que calcules la **importancia de las características**:\n",
    "\n",
    "- **Interpreta las 3 características más importantes** de cada modelo y analiza cómo influyen en la predicción de los resultados.\n",
    "\n",
    "---\n",
    "\n",
    "### 4. Selección del Mejor Modelo\n",
    "\n",
    "Al finalizar, deberás **elegir el modelo que mejor se ajuste** (incluso el modelo guía de árbol de decisión que te hemos mostrado) a la necesidad que estamos tratando de resolver: la **predicción de churn** (abandono de clientes). Justifica tu elección basándote en el desempeño de los modelos.\n",
    "\n",
    "---\n",
    "\n",
    "### 5. Reflexión: Mejoras Potenciales\n",
    "\n",
    "Si consideras que los modelos entrenados no son lo suficientemente buenos, cuéntanos:\n",
    "\n",
    "- **¿Por qué crees que los modelos no rinden lo suficiente?**\n",
    "- **¿Qué acciones tomarías para mejorar el rendimiento de los modelos?**\n",
    "\n",
    "---\n",
    "\n",
    "### ¡Buena suerte con el desafío!\n",
    "\n"
   ]
  },
  {
   "cell_type": "markdown",
   "metadata": {
    "id": "WzdOLl-760vo"
   },
   "source": [
    "### Pista: Te relacionamos el ajuste para los modelos de clasificación recomendados:\n",
    "\n",
    "- Regresión logística:**LogisticRegression()**\n",
    "  \n",
    "- Random Forest: **RandomForestClassifier()**"
   ]
  },
  {
   "cell_type": "code",
   "execution_count": null,
   "metadata": {
    "id": "eQDLbYoomuiu"
   },
   "outputs": [],
   "source": [
    "# Entrenar modelo elegido\n",
    "#Aqui va el código"
   ]
  },
  {
   "cell_type": "code",
   "execution_count": null,
   "metadata": {
    "id": "WFB6TM4S8pwy"
   },
   "outputs": [],
   "source": [
    "#Generar las predicciones tanto para el dataset de entrenamiento como el de prueba\n",
    "#Aqui va el código"
   ]
  },
  {
   "cell_type": "code",
   "execution_count": null,
   "metadata": {
    "id": "3ciZzD8mXd97"
   },
   "outputs": [],
   "source": [
    "#Generar las matrices de confusión"
   ]
  },
  {
   "cell_type": "markdown",
   "metadata": {
    "id": "XxkQ8Ar8CugQ"
   },
   "source": [
    "**Importancia de las variables**"
   ]
  },
  {
   "cell_type": "markdown",
   "metadata": {
    "id": "0nzH8ucrCyFg"
   },
   "source": [
    "En la variable **coefficients** debes cambiar el nombre model por el nombre que le asignaste al modelo de regresión logística en caso de que lo hayas elegido"
   ]
  },
  {
   "cell_type": "code",
   "execution_count": null,
   "metadata": {
    "id": "w1XRe_VuXxHs"
   },
   "outputs": [],
   "source": [
    "# Si optaste por correr una regresión logística te relacionamos el código\n",
    "coefficients = model.coef_[0]\n",
    "\n",
    "# Crear el dataset con las importancias de las variables\n",
    "feature_importances = pd.DataFrame({'Feature': X_entreno.columns, 'Importance': np.abs(coefficients)})\n",
    "\n",
    "# Ordenar las variables por importancia (valor absoluto del coeficiente)\n",
    "feature_importances = feature_importances.sort_values(by='Importance', ascending=False)\n",
    "\n",
    "# Crear el gráfico de barras\n",
    "plt.figure(figsize=(10, 6))  # Tamaño del gráfico\n",
    "plt.barh(feature_importances['Feature'], feature_importances['Importance'], color='skyblue')\n",
    "plt.xlabel('Importancia (Valor absoluto del coeficiente)')\n",
    "plt.ylabel('Feature')\n",
    "plt.title('Importancia de las variables en Regresión Logística')\n",
    "plt.gca().invert_yaxis()\n",
    "plt.show()\n"
   ]
  },
  {
   "cell_type": "code",
   "execution_count": null,
   "metadata": {
    "id": "lF--HWHpXxjC"
   },
   "outputs": [],
   "source": [
    "#En caso de que hayas elegido un Random Forest debes seguir el código de la sección 2.6\n",
    "# En esta parte del codigo clf.feature_importances_ debes cambiar clf por el nombre que le asignaste a tu modelo"
   ]
  },
  {
   "cell_type": "code",
   "execution_count": null,
   "metadata": {
    "id": "ptqVOJLrDi7I"
   },
   "outputs": [],
   "source": []
  }
 ],
 "metadata": {
  "colab": {
   "collapsed_sections": [
    "PonAeqglkvWr",
    "Ltqkhj3h8N0Y",
    "Ml5_-_h3n2x7",
    "vR6B14aNt_Xh",
    "q3Zuk0t60-qP",
    "bUm7RnGkU_pl",
    "syE7SxCtVshD",
    "QDzPdh_9XauV"
   ],
   "provenance": []
  },
  "kernelspec": {
   "display_name": "Python (legacy)",
   "language": "python",
   "name": "legacy"
  },
  "language_info": {
   "codemirror_mode": {
    "name": "ipython",
    "version": 3
   },
   "file_extension": ".py",
   "mimetype": "text/x-python",
   "name": "python",
   "nbconvert_exporter": "python",
   "pygments_lexer": "ipython3",
   "version": "3.7.16"
  }
 },
 "nbformat": 4,
 "nbformat_minor": 4
}
